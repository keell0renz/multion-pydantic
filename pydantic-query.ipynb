{
 "cells": [
  {
   "cell_type": "markdown",
   "metadata": {},
   "source": [
    "### MultiOn x Pydantic: The holy grail of data extraction?"
   ]
  },
  {
   "cell_type": "markdown",
   "metadata": {},
   "source": [
    "In this Jupyter notebook, I would like to present a small proof-of-concept regarding the idea of Pydantic-based query approach for web data extraction. Because currently I have no access to source code and internals of MultiOn, I was able only to create a software-level abstraction which adds a new method, `retrieve_with_model`, which can accept Pydantic models as queries."
   ]
  },
  {
   "cell_type": "code",
   "execution_count": 14,
   "metadata": {},
   "outputs": [],
   "source": [
    "from multion.types.retrieve_output import RetrieveOutput\n",
    "from pydantic import BaseModel, ValidationError\n",
    "from multion.client import MultiOn\n",
    "\n",
    "\n",
    "class MultiOnPydantic:  # Used during MultiOn() object assignment to provide type hinting.\n",
    "    def retrieve_with_model(self, *args, **kwargs) -> RetrieveOutput | BaseModel:\n",
    "        raise NotImplementedError()\n",
    "\n",
    "\n",
    "def retrieve_with_model(\n",
    "    self, output_schema: BaseModel | None = None, *args, **kwargs\n",
    ") -> RetrieveOutput | BaseModel:\n",
    "\n",
    "    if output_schema:\n",
    "        schema = output_schema.model_json_schema()\n",
    "\n",
    "        # Parse for field names and their respective types, description, examples.\n",
    "        fields: list[tuple[str, str, str, str]] = [\n",
    "            (\n",
    "                name,\n",
    "                field[\"type\"],\n",
    "                field.get(\"description\", \"No description provided.\"),\n",
    "                field.get(\"examples\", [\"No example provided.\"])[0],\n",
    "            )\n",
    "            for name, field in schema[\"properties\"].items()\n",
    "        ]\n",
    "\n",
    "        # Pass docstring as main mody of cmd and attach field names and their respective types.\n",
    "        cmd = f\"{output_schema.__doc__}\\nPlease ensure proper typing of the outputs:\\n{fields}\"\n",
    "\n",
    "        # Create arguments list based on schema.\n",
    "        args_list = list(output_schema.model_json_schema()[\"required\"])\n",
    "\n",
    "        # Call to original Retrieval API.\n",
    "        response = self.retrieve(cmd=cmd, fields=args_list, *args, **kwargs)\n",
    "\n",
    "        # Schema is constructed and validated.\n",
    "        try:\n",
    "            return output_schema.model_validate(response.data[0])\n",
    "        except ValidationError as e:\n",
    "            # TODO Handle potential re-request to model to fix the error.\n",
    "            raise ValidationError() from e\n",
    "\n",
    "    return self.retrieve(*args, **kwargs)  # API call in case output_schema is not used.\n",
    "\n",
    "\n",
    "# A little pythonic trick to modify existing code without editing the source code.\n",
    "setattr(MultiOn, \"retrieve_with_model\", retrieve_with_model)"
   ]
  },
  {
   "cell_type": "code",
   "execution_count": null,
   "metadata": {},
   "outputs": [],
   "source": [
    "# Assign a child type to provide type hinting.\n",
    "client: MultiOnPydantic = MultiOn(api_key=\"05ab569bdefe479aaa6077a59c06cf6c\")  # type: ignore"
   ]
  },
  {
   "cell_type": "markdown",
   "metadata": {},
   "source": [
    "Now, we can use Pydantic class as a query. In docstring we can specify natural language message, and fields as outputs."
   ]
  },
  {
   "cell_type": "code",
   "execution_count": 11,
   "metadata": {},
   "outputs": [
    {
     "data": {
      "text/plain": [
       "Query(email='https://www.keellorenz.com/mailto:bogdan122305@gmail.com', twitter='https://twitter.com/keell0renz', github='https://github.com/keell0renz/', telegram='https://t.me/keellorenz', linkedin='https://www.linkedin.com/in/bohdan-agarkov-87937a276/')"
      ]
     },
     "execution_count": 11,
     "metadata": {},
     "output_type": "execute_result"
    }
   ],
   "source": [
    "from pydantic import BaseModel\n",
    "\n",
    "\n",
    "class Query(BaseModel):\n",
    "    \"\"\"Please extract social links and data from my personal website.\"\"\"\n",
    "\n",
    "    email: str\n",
    "    twitter: str\n",
    "    github: str\n",
    "    telegram: str\n",
    "    linkedin: str\n",
    "\n",
    "\n",
    "client.retrieve_with_model(\n",
    "    url=\"https://keellorenz.com\", output_schema=Query\n",
    ")  # Outputs Query instance filled with data."
   ]
  },
  {
   "cell_type": "markdown",
   "metadata": {},
   "source": [
    "Also, we can use `Field` utility from Pydantic, to give more context for specific output value."
   ]
  },
  {
   "cell_type": "code",
   "execution_count": 17,
   "metadata": {},
   "outputs": [
    {
     "data": {
      "text/plain": [
       "Query(name='Bohdan Agarkov', university='Universiteit van Amsterdam', motto='I love building crazy shit.', description='Generative AI and full-stack web developer, software development intern at Tiny Fish, business student at Universiteit van Amsterdam. Curious about autonomous AI and AGI.', is_technical='Yes')"
      ]
     },
     "execution_count": 17,
     "metadata": {},
     "output_type": "execute_result"
    }
   ],
   "source": [
    "from pydantic import BaseModel, Field\n",
    "\n",
    "\n",
    "class Query(BaseModel):\n",
    "    \"\"\"Please extract various data from my website.\"\"\"  # Intentionally have given vague instruction.\n",
    "\n",
    "    name: str = Field(\n",
    "        description=\"Name on the website, probably name of the person described.\"\n",
    "    )\n",
    "    university: str = Field(description=\"Where this person studied?\")\n",
    "    motto: str = Field(\n",
    "        description=\"Written on the top, in big letters.\", examples=[\"I love...\"]\n",
    "    )\n",
    "    description: str = Field(description=\"Description of the person.\")\n",
    "    is_technical: str = Field(\n",
    "        description=\"Please answer his question based on content of the website, whether the author is a technical person (software engineer)\",\n",
    "        examples=[\"Yes\", \"No\"],\n",
    "    )\n",
    "\n",
    "\n",
    "client.retrieve_with_model(\n",
    "    url=\"https://keellorenz.com\", output_schema=Query\n",
    ")  # Outputs Query instance filled with data."
   ]
  },
  {
   "cell_type": "markdown",
   "metadata": {},
   "source": [
    "What I expecially like about MultiOn Scraping API is that AI is able to do it's own thinking and answer questions which are inferred from the content of the website, such as `is_technical`. This can be a new paradigm of web scraping, where you can scrape not only for data, but for specific answers, like \"Does this page promote my competitor's product?\", which frees user from implementing various complex logic or etc."
   ]
  },
  {
   "cell_type": "code",
   "execution_count": 20,
   "metadata": {},
   "outputs": [
    {
     "data": {
      "text/plain": [
       "Query(name='Bohdan Agarkov', university='Universiteit van Amsterdam', motto='I love building crazy shit.', description='Generative AI and full-stack web developer, software development intern at Tiny Fish, business student at Universiteit van Amsterdam. Curious about autonomous AI and AGI.', is_technical=True)"
      ]
     },
     "execution_count": 20,
     "metadata": {},
     "output_type": "execute_result"
    }
   ],
   "source": [
    "from pydantic import BaseModel, Field, field_validator\n",
    "\n",
    "\n",
    "class Query(BaseModel):\n",
    "    \"\"\"Please extract various data from my website.\"\"\"  # Intentionally have given vague instruction.\n",
    "\n",
    "    name: str = Field(\n",
    "        description=\"Name on the website, probably name of the person described.\"\n",
    "    )\n",
    "    university: str = Field(description=\"Where this person studied?\")\n",
    "    motto: str = Field(\n",
    "        description=\"Written on the top, in big letters.\", examples=[\"I love...\"]\n",
    "    )\n",
    "    description: str = Field(description=\"Description of the person.\")\n",
    "    is_technical: bool = Field(\n",
    "        description=\"Please answer his question based on content of the website, whether the author is a technical person (software engineer)\",\n",
    "        examples=[\"Yes\", \"No\"],\n",
    "    )\n",
    "\n",
    "    @field_validator(\"is_technical\")\n",
    "    def convert_is_technical(cls, v):\n",
    "        if isinstance(v, str):\n",
    "            return v.lower() == \"yes\"\n",
    "        return v\n",
    "\n",
    "\n",
    "client.retrieve_with_model(\n",
    "    url=\"https://keellorenz.com\", output_schema=Query\n",
    ")  # Outputs Query instance filled with data."
   ]
  },
  {
   "cell_type": "markdown",
   "metadata": {},
   "source": [
    "Now you can also see how validators can be used to validate and change data returned from the MultiOn agent."
   ]
  }
 ],
 "metadata": {
  "kernelspec": {
   "display_name": "Python 3",
   "language": "python",
   "name": "python3"
  },
  "language_info": {
   "codemirror_mode": {
    "name": "ipython",
    "version": 3
   },
   "file_extension": ".py",
   "mimetype": "text/x-python",
   "name": "python",
   "nbconvert_exporter": "python",
   "pygments_lexer": "ipython3",
   "version": "3.11.2"
  }
 },
 "nbformat": 4,
 "nbformat_minor": 2
}
