{
 "cells": [
  {
   "cell_type": "code",
   "execution_count": null,
   "metadata": {},
   "outputs": [],
   "source": [
    "from multion_pydantic import MultiOn, MultiOnPydantic"
   ]
  },
  {
   "cell_type": "code",
   "execution_count": null,
   "metadata": {},
   "outputs": [],
   "source": [
    "client: MultiOnPydantic = MultiOn(api_key=\"...\")  # type: ignore"
   ]
  },
  {
   "cell_type": "code",
   "execution_count": 9,
   "metadata": {},
   "outputs": [
    {
     "data": {
      "text/plain": [
       "Query1(product_name='Super Baggy Jeans', product_images=['https://image.hm.com/assets/hm/f1/39/f139bfa610ac10f0d21bcd6de5985477d8b60ebc.jpg?imwidth=564', 'https://image.hm.com/assets/hm/37/2f/372f2936e998ca8dd93ba554f7b785354e71c608.jpg?imwidth=564', 'https://image.hm.com/assets/hm/57/73/5773b2a3e1532aa3df35a081ce08ce21161057e5.jpg?imwidth=564', 'https://image.hm.com/assets/hm/89/05/89059f2a9359f231c4f8a45cd23cda6ac6dc741d.jpg?imwidth=564', 'data:image/gif;base64,R0lGODlhAQABAIAAAAAAAP///yH5BAEAAAAALAAAAAABAAEAAAIBRAA7'], product_price=39.99)"
      ]
     },
     "execution_count": 9,
     "metadata": {},
     "output_type": "execute_result"
    }
   ],
   "source": [
    "from pydantic import BaseModel\n",
    "\n",
    "\n",
    "class Query1(BaseModel):\n",
    "    \"\"\"Please fetch the information about the product on the page.\"\"\"\n",
    "\n",
    "    product_name: str\n",
    "    product_images: list[str]\n",
    "    product_price: float\n",
    "\n",
    "\n",
    "client.retrieve_with_model(\n",
    "    url=\"https://www2.hm.com/nl_nl/productpage.1252606002.html\", output_schema=Query1\n",
    ")"
   ]
  },
  {
   "cell_type": "code",
   "execution_count": 11,
   "metadata": {},
   "outputs": [
    {
     "data": {
      "text/plain": [
       "Query2(product_name='Sportzonnebril', product_price=20, stars=5.0)"
      ]
     },
     "execution_count": 11,
     "metadata": {},
     "output_type": "execute_result"
    }
   ],
   "source": [
    "from pydantic import BaseModel, Field\n",
    "\n",
    "\n",
    "class Query2(BaseModel):\n",
    "    \"\"\"Please fetch the information about the product on the image.\"\"\"\n",
    "\n",
    "    product_name: str\n",
    "    product_price: int = Field(\n",
    "        description=\"If price is not an integer -- round up, like if it's 9.9 output 10.\"\n",
    "    )\n",
    "    stars: float = Field(\n",
    "        description=\"What is the average review? You can find it where number of stars is depicted.\"\n",
    "    )\n",
    "\n",
    "\n",
    "client.retrieve_with_model(\n",
    "    url=\"https://www2.hm.com/nl_nl/productpage.1156155002.html\", output_schema=Query2, render_js=True\n",
    ")"
   ]
  }
 ],
 "metadata": {
  "kernelspec": {
   "display_name": "Python 3",
   "language": "python",
   "name": "python3"
  },
  "language_info": {
   "codemirror_mode": {
    "name": "ipython",
    "version": 3
   },
   "file_extension": ".py",
   "mimetype": "text/x-python",
   "name": "python",
   "nbconvert_exporter": "python",
   "pygments_lexer": "ipython3",
   "version": "3.11.2"
  }
 },
 "nbformat": 4,
 "nbformat_minor": 2
}
